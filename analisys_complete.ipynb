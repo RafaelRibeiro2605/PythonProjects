{
 "cells": [
  {
   "cell_type": "markdown",
   "id": "58875e7a",
   "metadata": {},
   "source": [
    "# Hurricane Analysis"
   ]
  },
  {
   "cell_type": "markdown",
   "id": "9a2d9627",
   "metadata": {},
   "source": [
    "#### Overview"
   ]
  },
  {
   "cell_type": "markdown",
   "id": "633e5dde",
   "metadata": {},
   "source": [
    "This project is slightly different than others you have encountered thus far. Instead of a step-by-step tutorial, this project contains a series of open-ended requirements which describe the project you'll be building. There are many possible ways to correctly fulfill all of these requirements, and you should expect to use the internet, Codecademy, and other resources when you encounter a problem that you cannot easily solve."
   ]
  },
  {
   "cell_type": "markdown",
   "id": "52f01f07",
   "metadata": {},
   "source": [
    "#### Project Goals"
   ]
  },
  {
   "cell_type": "markdown",
   "id": "d9d06c43",
   "metadata": {},
   "source": [
    "You will work to write several functions that organize and manipulate data about Category 5 Hurricanes, the strongest hurricanes as rated by their wind speed. Each one of these functions will use a number of parameters, conditionals, lists, dictionaries, string manipulation, and return statements."
   ]
  },
  {
   "cell_type": "markdown",
   "id": "7fbb9fb5",
   "metadata": {},
   "source": [
    "#### Prerequisites"
   ]
  },
  {
   "cell_type": "markdown",
   "id": "4732a1e8",
   "metadata": {},
   "source": [
    "In order to complete this project, you should have completed the Loops and Dictionaries sections of the [Learn Python 3 Course](https://www.codecademy.com/learn/learn-python-3). This content is also covered in the [Data Scientist Career Path](https://www.codecademy.com/learn/paths/data-science/)."
   ]
  },
  {
   "cell_type": "markdown",
   "id": "1e924903",
   "metadata": {},
   "source": [
    "## Project Requirements"
   ]
  },
  {
   "cell_type": "markdown",
   "id": "35d6f74d",
   "metadata": {},
   "source": [
    "1. Hurricanes, also known as cyclones or typhoons, are one of the most powerful forces of nature on Earth. Due to climate change caused by human activity, the number and intensity of hurricanes has risen, calling for better preparation by the many communities that are devastated by them. As a concerned environmentalist, you want to look at data about the most powerful hurricanes that have occured. \n",
    "\n",
    "   Begin by looking at the `damages` list. The list contains strings representing the total cost in USD(`$`) caused by `34` category 5 hurricanes (wind speeds $\\ge$ 157 mph (252 km/h)) in the Atlantic region. For some of the hurricanes, damage data was not recorded (`\"Damages not recorded\"`), while the rest are written in the format `\"Prefix-B/M\"`, where `B` stands for billions (`1000000000`) and `M` stands for millions (`1000000`).\n",
    "   \n",
    "   Write a function that returns a new list of updated damages where the recorded data is converted to float values and the missing data is retained as `\"Damages not recorded\"`.\n",
    "   \n",
    "   Test your function with the data stored in `damages`."
   ]
  },
  {
   "cell_type": "code",
   "execution_count": 20,
   "id": "d8d3c50b",
   "metadata": {},
   "outputs": [
    {
     "name": "stdout",
     "output_type": "stream",
     "text": [
      "['Damages not recorded', 100000000.0, 'Damages not recorded', 40000000.0, 27900000.0, 5000000.0, 'Damages not recorded', 306000000.0, 2000000.0, 65800000.0, 326000000.0, 60300000.0, 208000000.0, 1420000000.0, 25400000.0, 'Damages not recorded', 1540000000.0, 1240000000.0, 7100000000.0, 10000000000.0, 26500000000.0, 6200000000.0, 5370000000.0, 23300000000.0, 1010000000.0, 125000000000.0, 12000000000.0, 29400000000.0, 1760000000.0, 720000000.0, 15100000000.0, 64800000000.0, 91600000000.0, 25100000000.0]\n"
     ]
    }
   ],
   "source": [
    "# damages (USD($)) of hurricanes\n",
    "damages = ['Damages not recorded', '100M', 'Damages not recorded', '40M',\n",
    "          '27.9M', '5M', 'Damages not recorded', '306M', '2M', '65.8M',\n",
    "          '326M', '60.3M', '208M', '1.42B', '25.4M', 'Damages not recorded',\n",
    "          '1.54B', '1.24B', '7.1B', '10B', '26.5B', '6.2B', '5.37B', '23.3B',\n",
    "          '1.01B', '125B', '12B', '29.4B', '1.76B', '720M', '15.1B', '64.8B',\n",
    "          '91.6B', '25.1B']\n",
    "\n",
    "# 1\n",
    "# Update Recorded Damages\n",
    "conversion = {\"M\": 1000000,\n",
    "             \"B\": 1000000000}\n",
    "\n",
    "# test function by updating damages\n",
    "damage_converted = []\n",
    "for damage in damages:\n",
    "    if damage == 'Damages not recorded':\n",
    "        damage_converted.append(damage)\n",
    "    elif damage[-1] == 'M':\n",
    "        damage_value = float(damage[:-1]) * 1000000\n",
    "        damage_converted.append(damage_value)\n",
    "    elif damage[-1] == 'B':\n",
    "        damage_value = float(damage[:-1]) * 1000000000\n",
    "        damage_converted.append(damage_value)\n",
    "        \n",
    "        \n",
    "    \n",
    "    \n",
    "    \n",
    "print(damage_converted)\n",
    "\n"
   ]
  },
  {
   "cell_type": "markdown",
   "id": "36ac47b6",
   "metadata": {},
   "source": [
    "2. Additional data collected on the `34` strongest Atlantic hurricanes are provided in a series of lists. The data includes:\n",
    "   - `names`: names of the hurricanes\n",
    "   - `months`: months in which the hurricanes occurred\n",
    "   - `years`: years in which the hurricanes occurred\n",
    "   - `max_sustained_winds`: maximum sustained winds (miles per hour) of the hurricanes\n",
    "   - `areas_affected`: list of different areas affected by each of the hurricanes\n",
    "   - `deaths`: total number of deaths caused by each of the hurricanes\n",
    "   \n",
    "   The data is organized such that the data at each index, from `0` to `33`, corresponds to the same hurricane.\n",
    "   \n",
    "   For example, `names[0]` yields the \"Cuba I\" hurricane, which occurred in `months[0]` (October) `years[0]` (1924).\n",
    "   \n",
    "   Write a function that constructs a dictionary made out of the lists, where the keys of the dictionary are the names of the hurricanes, and the values are dictionaries themselves containing a key for each piece of data (`Name`, `Month`, `Year`, `Max Sustained Wind`, `Areas Affected`, `Damage`, `Death`) about the hurricane.\n",
    "   \n",
    "   Thus the key `\"Cuba I\"` would have the value: `{'Name': 'Cuba I', 'Month': 'October', 'Year': 1924, 'Max Sustained Wind': 165, 'Areas Affected': ['Central America', 'Mexico', 'Cuba', 'Florida', 'The Bahamas'], 'Damage': 'Damages not recorded', 'Deaths': 90}`.\n",
    "   \n",
    "   Test your function on the lists of data provided."
   ]
  },
  {
   "cell_type": "code",
   "execution_count": 35,
   "id": "641aa113",
   "metadata": {},
   "outputs": [
    {
     "name": "stdout",
     "output_type": "stream",
     "text": [
      "{'names': ['Cuba I', 'San Felipe II Okeechobee', 'Bahamas', 'Cuba II', 'CubaBrownsville', 'Tampico', 'Labor Day', 'New England', 'Carol', 'Janet', 'Carla', 'Hattie', 'Beulah', 'Camille', 'Edith', 'Anita', 'David', 'Allen', 'Gilbert', 'Hugo', 'Andrew', 'Mitch', 'Isabel', 'Ivan', 'Emily', 'Katrina', 'Rita', 'Wilma', 'Dean', 'Felix', 'Matthew', 'Irma', 'Maria', 'Michael'], 'months': ['October', 'September', 'September', 'November', 'August', 'September', 'September', 'September', 'September', 'September', 'September', 'October', 'September', 'August', 'September', 'September', 'August', 'August', 'September', 'September', 'August', 'October', 'September', 'September', 'July', 'August', 'September', 'October', 'August', 'September', 'October', 'September', 'September', 'October'], 'years': [1924, 1928, 1932, 1932, 1933, 1933, 1935, 1938, 1953, 1955, 1961, 1961, 1967, 1969, 1971, 1977, 1979, 1980, 1988, 1989, 1992, 1998, 2003, 2004, 2005, 2005, 2005, 2005, 2007, 2007, 2016, 2017, 2017, 2018], 'maxwinds': [165, 160, 160, 175, 160, 160, 185, 160, 160, 175, 175, 160, 160, 175, 160, 175, 175, 190, 185, 160, 175, 180, 165, 165, 160, 175, 180, 185, 175, 175, 165, 180, 175, 160], 'areas': [['Central America', 'Mexico', 'Cuba', 'Florida', 'The Bahamas'], ['Lesser Antilles', 'The Bahamas', 'United States East Coast', 'Atlantic Canada'], ['The Bahamas', 'Northeastern United States'], ['Lesser Antilles', 'Jamaica', 'Cayman Islands', 'Cuba', 'The Bahamas', 'Bermuda'], ['The Bahamas', 'Cuba', 'Florida', 'Texas', 'Tamaulipas'], ['Jamaica', 'Yucatn Peninsula'], ['The Bahamas', 'Florida', 'Georgia', 'The Carolinas', 'Virginia'], ['Southeastern United States', 'Northeastern United States', 'Southwestern Quebec'], ['Bermuda', 'New England', 'Atlantic Canada'], ['Lesser Antilles', 'Central America'], ['Texas', 'Louisiana', 'Midwestern United States'], ['Central America'], ['The Caribbean', 'Mexico', 'Texas'], ['Cuba', 'United States Gulf Coast'], ['The Caribbean', 'Central America', 'Mexico', 'United States Gulf Coast'], ['Mexico'], ['The Caribbean', 'United States East coast'], ['The Caribbean', 'Yucatn Peninsula', 'Mexico', 'South Texas'], ['Jamaica', 'Venezuela', 'Central America', 'Hispaniola', 'Mexico'], ['The Caribbean', 'United States East Coast'], ['The Bahamas', 'Florida', 'United States Gulf Coast'], ['Central America', 'Yucatn Peninsula', 'South Florida'], ['Greater Antilles', 'Bahamas', 'Eastern United States', 'Ontario'], ['The Caribbean', 'Venezuela', 'United States Gulf Coast'], ['Windward Islands', 'Jamaica', 'Mexico', 'Texas'], ['Bahamas', 'United States Gulf Coast'], ['Cuba', 'United States Gulf Coast'], ['Greater Antilles', 'Central America', 'Florida'], ['The Caribbean', 'Central America'], ['Nicaragua', 'Honduras'], ['Antilles', 'Venezuela', 'Colombia', 'United States East Coast', 'Atlantic Canada'], ['Cape Verde', 'The Caribbean', 'British Virgin Islands', 'U.S. Virgin Islands', 'Cuba', 'Florida'], ['Lesser Antilles', 'Virgin Islands', 'Puerto Rico', 'Dominican Republic', 'Turks and Caicos Islands'], ['Central America', 'United States Gulf Coast (especially Florida Panhandle)']], 'damages': ['Damages not recorded', 100000000.0, 'Damages not recorded', 40000000.0, 27900000.0, 5000000.0, 'Damages not recorded', 306000000.0, 2000000.0, 65800000.0, 326000000.0, 60300000.0, 208000000.0, 1420000000.0, 25400000.0, 'Damages not recorded', 1540000000.0, 1240000000.0, 7100000000.0, 10000000000.0, 26500000000.0, 6200000000.0, 5370000000.0, 23300000000.0, 1010000000.0, 125000000000.0, 12000000000.0, 29400000000.0, 1760000000.0, 720000000.0, 15100000000.0, 64800000000.0, 91600000000.0, 25100000000.0], 'deaths': [90, 4000, 16, 3103, 179, 184, 408, 682, 5, 1023, 43, 319, 688, 259, 37, 11, 2068, 269, 318, 107, 65, 19325, 51, 124, 17, 1836, 125, 87, 45, 133, 603, 138, 3057, 74]}\n"
     ]
    }
   ],
   "source": [
    "# names of hurricanes\n",
    "names = ['Cuba I', 'San Felipe II Okeechobee', 'Bahamas', 'Cuba II', 'CubaBrownsville', 'Tampico', 'Labor Day', 'New England', 'Carol', 'Janet', 'Carla', 'Hattie', 'Beulah', 'Camille', 'Edith', 'Anita', 'David', 'Allen', 'Gilbert', 'Hugo', 'Andrew', 'Mitch', 'Isabel', 'Ivan', 'Emily', 'Katrina', 'Rita', 'Wilma', 'Dean', 'Felix', 'Matthew', 'Irma', 'Maria', 'Michael']\n",
    "\n",
    "# months of hurricanes\n",
    "months = ['October', 'September', 'September', 'November', 'August', 'September', 'September', 'September', 'September', 'September', 'September', 'October', 'September', 'August', 'September', 'September', 'August', 'August', 'September', 'September', 'August', 'October', 'September', 'September', 'July', 'August', 'September', 'October', 'August', 'September', 'October', 'September', 'September', 'October']\n",
    "\n",
    "# years of hurricanes\n",
    "years = [1924, 1928, 1932, 1932, 1933, 1933, 1935, 1938, 1953, 1955, 1961, 1961, 1967, 1969, 1971, 1977, 1979, 1980, 1988, 1989, 1992, 1998, 2003, 2004, 2005, 2005, 2005, 2005, 2007, 2007, 2016, 2017, 2017, 2018]\n",
    "\n",
    "# maximum sustained winds (mph) of hurricanes\n",
    "max_sustained_winds = [165, 160, 160, 175, 160, 160, 185, 160, 160, 175, 175, 160, 160, 175, 160, 175, 175, 190, 185, 160, 175, 180, 165, 165, 160, 175, 180, 185, 175, 175, 165, 180, 175, 160]\n",
    "\n",
    "# areas affected by each hurricane\n",
    "areas_affected = [['Central America', 'Mexico', 'Cuba', 'Florida', 'The Bahamas'], ['Lesser Antilles', 'The Bahamas', 'United States East Coast', 'Atlantic Canada'], ['The Bahamas', 'Northeastern United States'], ['Lesser Antilles', 'Jamaica', 'Cayman Islands', 'Cuba', 'The Bahamas', 'Bermuda'], ['The Bahamas', 'Cuba', 'Florida', 'Texas', 'Tamaulipas'], ['Jamaica', 'Yucatn Peninsula'], ['The Bahamas', 'Florida', 'Georgia', 'The Carolinas', 'Virginia'], ['Southeastern United States', 'Northeastern United States', 'Southwestern Quebec'], ['Bermuda', 'New England', 'Atlantic Canada'], ['Lesser Antilles', 'Central America'], ['Texas', 'Louisiana', 'Midwestern United States'], ['Central America'], ['The Caribbean', 'Mexico', 'Texas'], ['Cuba', 'United States Gulf Coast'], ['The Caribbean', 'Central America', 'Mexico', 'United States Gulf Coast'], ['Mexico'], ['The Caribbean', 'United States East coast'], ['The Caribbean', 'Yucatn Peninsula', 'Mexico', 'South Texas'], ['Jamaica', 'Venezuela', 'Central America', 'Hispaniola', 'Mexico'], ['The Caribbean', 'United States East Coast'], ['The Bahamas', 'Florida', 'United States Gulf Coast'], ['Central America', 'Yucatn Peninsula', 'South Florida'], ['Greater Antilles', 'Bahamas', 'Eastern United States', 'Ontario'], ['The Caribbean', 'Venezuela', 'United States Gulf Coast'], ['Windward Islands', 'Jamaica', 'Mexico', 'Texas'], ['Bahamas', 'United States Gulf Coast'], ['Cuba', 'United States Gulf Coast'], ['Greater Antilles', 'Central America', 'Florida'], ['The Caribbean', 'Central America'], ['Nicaragua', 'Honduras'], ['Antilles', 'Venezuela', 'Colombia', 'United States East Coast', 'Atlantic Canada'], ['Cape Verde', 'The Caribbean', 'British Virgin Islands', 'U.S. Virgin Islands', 'Cuba', 'Florida'], ['Lesser Antilles', 'Virgin Islands', 'Puerto Rico', 'Dominican Republic', 'Turks and Caicos Islands'], ['Central America', 'United States Gulf Coast (especially Florida Panhandle)']]\n",
    "\n",
    "# damages (USD($)) of hurricanes\n",
    "damages = ['Damages not recorded', '100M', 'Damages not recorded', '40M', '27.9M', '5M', 'Damages not recorded', '306M', '2M', '65.8M', '326M', '60.3M', '208M', '1.42B', '25.4M', 'Damages not recorded', '1.54B', '1.24B', '7.1B', '10B', '26.5B', '6.2B', '5.37B', '23.3B', '1.01B', '125B', '12B', '29.4B', '1.76B', '720M', '15.1B', '64.8B', '91.6B', '25.1B']\n",
    "\n",
    "# deaths for each hurricane\n",
    "deaths = [90,4000,16,3103,179,184,408,682,5,1023,43,319,688,259,37,11,2068,269,318,107,65,19325,51,124,17,1836,125,87,45,133,603,138,3057,74]\n",
    "\n",
    "# 2\n",
    "# Create a Table\n",
    "\n",
    "hurricanes = {\"names\":[], \"months\": [], \"years\":[], \"maxwinds\": [], \"areas\": [], \"damages\": [], \"deaths\": [] }\n",
    "for names, months, years, maxwinds, areas, damages, deaths  in zip(names, months, years, max_sustained_winds, areas_affected, damage_converted, deaths): \n",
    "    hurricanes[\"names\"].append(names)\n",
    "    hurricanes[\"months\"].append(months)\n",
    "    hurricanes[\"years\"].append(years)\n",
    "    hurricanes[\"maxwinds\"].append(maxwinds)\n",
    "    hurricanes[\"areas\"].append(areas)\n",
    "    hurricanes[\"damages\"].append(damages)\n",
    "    hurricanes[\"deaths\"].append(deaths)\n",
    "\n",
    "print(hurricanes)\n",
    "\n",
    "# Create and view the hurricanes dictionary\n"
   ]
  },
  {
   "cell_type": "markdown",
   "id": "6d0a1933",
   "metadata": {},
   "source": [
    "3. In addition to organizing the hurricanes in a dictionary with names as the key, you want to be able to organize the hurricanes by year.\n",
    "\n",
    "   Write a function that converts the current dictionary of hurricanes to a new dictionary, where the keys are years and the values are lists containing a dictionary for each hurricane that occurred in that year.\n",
    "   \n",
    "   For example, the key `1932` would yield the value: `[{'Name': 'Bahamas', 'Month': 'September', 'Year': 1932, 'Max Sustained Wind': 160, 'Areas Affected': ['The Bahamas', 'Northeastern United States'], 'Damage': 'Damage not recorded', 'Deaths': 16}, {'Name': 'Cuba II', 'Month': 'November', 'Year': 1932, 'Max Sustained Wind': 175, 'Areas Affected': ['Lesser Antilles', 'Jamaica', 'Cayman Islands', 'Cuba', 'The Bahamas', 'Bermuda'], 'Damage': 40000000.0, 'Deaths': 3103}]`.\n",
    "   \n",
    "   Test your function on your hurricane dictionary."
   ]
  },
  {
   "cell_type": "code",
   "execution_count": 62,
   "id": "1ef2edea",
   "metadata": {},
   "outputs": [
    {
     "name": "stdout",
     "output_type": "stream",
     "text": [
      "{1924: [{'name': 'Cuba I', 'months': 'October', 'maxwinds': 165, 'areas': ['Central America', 'Mexico', 'Cuba', 'Florida', 'The Bahamas'], 'damages': 'Damages not recorded', 'deaths': 90}], 1928: [{'name': 'San Felipe II Okeechobee', 'months': 'September', 'maxwinds': 160, 'areas': ['Lesser Antilles', 'The Bahamas', 'United States East Coast', 'Atlantic Canada'], 'damages': 100000000.0, 'deaths': 4000}], 1932: [{'name': 'Bahamas', 'months': 'September', 'maxwinds': 160, 'areas': ['The Bahamas', 'Northeastern United States'], 'damages': 'Damages not recorded', 'deaths': 16}, {'name': 'Cuba II', 'months': 'November', 'maxwinds': 175, 'areas': ['Lesser Antilles', 'Jamaica', 'Cayman Islands', 'Cuba', 'The Bahamas', 'Bermuda'], 'damages': 40000000.0, 'deaths': 3103}], 1933: [{'name': 'CubaBrownsville', 'months': 'August', 'maxwinds': 160, 'areas': ['The Bahamas', 'Cuba', 'Florida', 'Texas', 'Tamaulipas'], 'damages': 27900000.0, 'deaths': 179}, {'name': 'Tampico', 'months': 'September', 'maxwinds': 160, 'areas': ['Jamaica', 'Yucatn Peninsula'], 'damages': 5000000.0, 'deaths': 184}], 1935: [{'name': 'Labor Day', 'months': 'September', 'maxwinds': 185, 'areas': ['The Bahamas', 'Florida', 'Georgia', 'The Carolinas', 'Virginia'], 'damages': 'Damages not recorded', 'deaths': 408}], 1938: [{'name': 'New England', 'months': 'September', 'maxwinds': 160, 'areas': ['Southeastern United States', 'Northeastern United States', 'Southwestern Quebec'], 'damages': 306000000.0, 'deaths': 682}], 1953: [{'name': 'Carol', 'months': 'September', 'maxwinds': 160, 'areas': ['Bermuda', 'New England', 'Atlantic Canada'], 'damages': 2000000.0, 'deaths': 5}], 1955: [{'name': 'Janet', 'months': 'September', 'maxwinds': 175, 'areas': ['Lesser Antilles', 'Central America'], 'damages': 65800000.0, 'deaths': 1023}], 1961: [{'name': 'Carla', 'months': 'September', 'maxwinds': 175, 'areas': ['Texas', 'Louisiana', 'Midwestern United States'], 'damages': 326000000.0, 'deaths': 43}, {'name': 'Hattie', 'months': 'October', 'maxwinds': 160, 'areas': ['Central America'], 'damages': 60300000.0, 'deaths': 319}], 1967: [{'name': 'Beulah', 'months': 'September', 'maxwinds': 160, 'areas': ['The Caribbean', 'Mexico', 'Texas'], 'damages': 208000000.0, 'deaths': 688}], 1969: [{'name': 'Camille', 'months': 'August', 'maxwinds': 175, 'areas': ['Cuba', 'United States Gulf Coast'], 'damages': 1420000000.0, 'deaths': 259}], 1971: [{'name': 'Edith', 'months': 'September', 'maxwinds': 160, 'areas': ['The Caribbean', 'Central America', 'Mexico', 'United States Gulf Coast'], 'damages': 25400000.0, 'deaths': 37}], 1977: [{'name': 'Anita', 'months': 'September', 'maxwinds': 175, 'areas': ['Mexico'], 'damages': 'Damages not recorded', 'deaths': 11}], 1979: [{'name': 'David', 'months': 'August', 'maxwinds': 175, 'areas': ['The Caribbean', 'United States East coast'], 'damages': 1540000000.0, 'deaths': 2068}], 1980: [{'name': 'Allen', 'months': 'August', 'maxwinds': 190, 'areas': ['The Caribbean', 'Yucatn Peninsula', 'Mexico', 'South Texas'], 'damages': 1240000000.0, 'deaths': 269}], 1988: [{'name': 'Gilbert', 'months': 'September', 'maxwinds': 185, 'areas': ['Jamaica', 'Venezuela', 'Central America', 'Hispaniola', 'Mexico'], 'damages': 7100000000.0, 'deaths': 318}], 1989: [{'name': 'Hugo', 'months': 'September', 'maxwinds': 160, 'areas': ['The Caribbean', 'United States East Coast'], 'damages': 10000000000.0, 'deaths': 107}], 1992: [{'name': 'Andrew', 'months': 'August', 'maxwinds': 175, 'areas': ['The Bahamas', 'Florida', 'United States Gulf Coast'], 'damages': 26500000000.0, 'deaths': 65}], 1998: [{'name': 'Mitch', 'months': 'October', 'maxwinds': 180, 'areas': ['Central America', 'Yucatn Peninsula', 'South Florida'], 'damages': 6200000000.0, 'deaths': 19325}], 2003: [{'name': 'Isabel', 'months': 'September', 'maxwinds': 165, 'areas': ['Greater Antilles', 'Bahamas', 'Eastern United States', 'Ontario'], 'damages': 5370000000.0, 'deaths': 51}], 2004: [{'name': 'Ivan', 'months': 'September', 'maxwinds': 165, 'areas': ['The Caribbean', 'Venezuela', 'United States Gulf Coast'], 'damages': 23300000000.0, 'deaths': 124}], 2005: [{'name': 'Emily', 'months': 'July', 'maxwinds': 160, 'areas': ['Windward Islands', 'Jamaica', 'Mexico', 'Texas'], 'damages': 1010000000.0, 'deaths': 17}, {'name': 'Katrina', 'months': 'August', 'maxwinds': 175, 'areas': ['Bahamas', 'United States Gulf Coast'], 'damages': 125000000000.0, 'deaths': 1836}, {'name': 'Rita', 'months': 'September', 'maxwinds': 180, 'areas': ['Cuba', 'United States Gulf Coast'], 'damages': 12000000000.0, 'deaths': 125}, {'name': 'Wilma', 'months': 'October', 'maxwinds': 185, 'areas': ['Greater Antilles', 'Central America', 'Florida'], 'damages': 29400000000.0, 'deaths': 87}], 2007: [{'name': 'Dean', 'months': 'August', 'maxwinds': 175, 'areas': ['The Caribbean', 'Central America'], 'damages': 1760000000.0, 'deaths': 45}, {'name': 'Felix', 'months': 'September', 'maxwinds': 175, 'areas': ['Nicaragua', 'Honduras'], 'damages': 720000000.0, 'deaths': 133}], 2016: [{'name': 'Matthew', 'months': 'October', 'maxwinds': 165, 'areas': ['Antilles', 'Venezuela', 'Colombia', 'United States East Coast', 'Atlantic Canada'], 'damages': 15100000000.0, 'deaths': 603}], 2017: [{'name': 'Irma', 'months': 'September', 'maxwinds': 180, 'areas': ['Cape Verde', 'The Caribbean', 'British Virgin Islands', 'U.S. Virgin Islands', 'Cuba', 'Florida'], 'damages': 64800000000.0, 'deaths': 138}, {'name': 'Maria', 'months': 'September', 'maxwinds': 175, 'areas': ['Lesser Antilles', 'Virgin Islands', 'Puerto Rico', 'Dominican Republic', 'Turks and Caicos Islands'], 'damages': 91600000000.0, 'deaths': 3057}], 2018: [{'name': 'Michael', 'months': 'October', 'maxwinds': 160, 'areas': ['Central America', 'United States Gulf Coast (especially Florida Panhandle)'], 'damages': 25100000000.0, 'deaths': 74}]}\n"
     ]
    }
   ],
   "source": [
    "# 3\n",
    "# Organizing by Year\n",
    "hurricanes_by_year = {}\n",
    "\n",
    "for i in range(0, len(hurricanes['years'])):\n",
    "    year = hurricanes['years'][i]\n",
    "    name = hurricanes['names'][i]\n",
    "    months = hurricanes['months'][i]\n",
    "    maxwinds = hurricanes['maxwinds'][i]\n",
    "    areas = hurricanes['areas'][i]\n",
    "    damages = hurricanes['damages'][i]\n",
    "    deaths = hurricanes['deaths'][i]\n",
    "    \n",
    "    hurricane_info = {'name': name, 'months': months, 'maxwinds': maxwinds, 'areas': areas, 'damages': damages, 'deaths': deaths}\n",
    "    \n",
    "    if year not in hurricanes_by_year:\n",
    "        hurricanes_by_year[year] = []\n",
    "    \n",
    "    hurricanes_by_year[year].append(hurricane_info)\n",
    "print(hurricanes_by_year)\n",
    "    \n",
    "\n",
    "# create a new dictionary of hurricanes with year and key\n",
    "\n"
   ]
  },
  {
   "cell_type": "markdown",
   "id": "66973f77",
   "metadata": {},
   "source": [
    "4. You believe that knowing how often each of the areas of the Atlantic are affected by these strong hurricanes is important for making preparations for future hurricanes.\n",
    "\n",
    "   Write a function that counts how often each area is listed as an affected area of a hurricane. Store and return the results in a dictionary where the keys are the affected areas and the values are counts of how many times the areas were affected.\n",
    "   \n",
    "   Test your function on your hurricane dictionary."
   ]
  },
  {
   "cell_type": "code",
   "execution_count": 80,
   "id": "bff86f77",
   "metadata": {},
   "outputs": [
    {
     "name": "stdout",
     "output_type": "stream",
     "text": [
      "{'Central America': [9], 'Mexico': [7], 'Cuba': [6], 'Florida': [6], 'The Bahamas': [7], 'Lesser Antilles': [4], 'United States East Coast': [3], 'Atlantic Canada': [3], 'Northeastern United States': [2], 'Jamaica': [4], 'Cayman Islands': [1], 'Bermuda': [2], 'Texas': [4], 'Tamaulipas': [1], 'Yucatn Peninsula': [3], 'Georgia': [1], 'The Carolinas': [1], 'Virginia': [1], 'Southeastern United States': [1], 'Southwestern Quebec': [1], 'New England': [1], 'Louisiana': [1], 'Midwestern United States': [1], 'The Caribbean': [8], 'United States Gulf Coast': [6], 'United States East coast': [1], 'South Texas': [1], 'Venezuela': [3], 'Hispaniola': [1], 'South Florida': [1], 'Greater Antilles': [2], 'Bahamas': [2], 'Eastern United States': [1], 'Ontario': [1], 'Windward Islands': [1], 'Nicaragua': [1], 'Honduras': [1], 'Antilles': [1], 'Colombia': [1], 'Cape Verde': [1], 'British Virgin Islands': [1], 'U.S. Virgin Islands': [1], 'Virgin Islands': [1], 'Puerto Rico': [1], 'Dominican Republic': [1], 'Turks and Caicos Islands': [1], 'United States Gulf Coast (especially Florida Panhandle)': [1]}\n"
     ]
    }
   ],
   "source": [
    "# 4\n",
    "# Counting Damaged Areas\n",
    "#print(hurricanes['areas'])\n",
    "areas_affected = {}\n",
    "\n",
    "for area_list in hurricanes['areas']:\n",
    "    for area in area_list:\n",
    "        if area not in areas_affected:\n",
    "            areas_affected[area] = [1]\n",
    "        else:\n",
    "            areas_affected[area][0] += 1\n",
    "        \n",
    "# create dictionary of areas to store the number of hurricanes involved in\n",
    "print(areas_affected)\n"
   ]
  },
  {
   "cell_type": "markdown",
   "id": "e015eeb3",
   "metadata": {},
   "source": [
    "5. Write a function that finds the area affected by the most hurricanes, and how often it was hit.\n",
    "\n",
    "   Test your function on your affected area dictionary."
   ]
  },
  {
   "cell_type": "code",
   "execution_count": 86,
   "id": "643c73f9",
   "metadata": {},
   "outputs": [
    {
     "name": "stdout",
     "output_type": "stream",
     "text": [
      "19325\n"
     ]
    }
   ],
   "source": [
    "# 5\n",
    "# Calculating Maximum Hurricane Count\n",
    "max_deaths = 0\n",
    "for deaths in hurricanes['deaths']:\n",
    "    current_hurricane = deaths\n",
    "    if current_hurricane > max_deaths:\n",
    "        max_deaths = deaths\n",
    "\n",
    "# find most frequently affected area and the number of hurricanes involved in\n",
    "print(max_deaths)"
   ]
  },
  {
   "cell_type": "markdown",
   "id": "4c120f59",
   "metadata": {},
   "source": [
    "6. Write a function that finds the hurricane that caused the greatest number of deaths, and how many deaths it caused.\n",
    "\n",
    "   Test your function on your hurricane dictionary."
   ]
  },
  {
   "cell_type": "code",
   "execution_count": 6,
   "id": "ced02448",
   "metadata": {},
   "outputs": [],
   "source": [
    "# 6\n",
    "# Calculating the Deadliest Hurricane\n",
    "\n",
    "\n",
    "\n",
    "    \n",
    "\n",
    "# find highest mortality hurricane and the number of deaths\n"
   ]
  },
  {
   "cell_type": "markdown",
   "id": "9ddd39b0",
   "metadata": {},
   "source": [
    "7. Just as hurricanes are rated by their windspeed, you want to try rating hurricanes based on other metrics.\n",
    "\n",
    "   Write a function that rates hurricanes on a mortality scale according to the following ratings, where the key is the rating and the value is the upper bound of deaths for that rating.\n",
    "   \n",
    "   ```py\n",
    "   mortality_scale = {0: 0,\n",
    "   1: 100,\n",
    "   2: 500,\n",
    "   3: 1000,\n",
    "   4: 10000}\n",
    "   ```\n",
    "   \n",
    "   For example, a hurricane with a `1` mortality rating would have resulted in greater than `0` but less than or equal to `100` deaths. A hurricane with a `5` mortality would have resulted in greater than `10000` deaths.\n",
    "   \n",
    "   Store the hurricanes in a new dictionary where the keys are the mortaility ratings and the values are lists containing a dictionary for each hurricane that falls into that mortality rating.\n",
    "   \n",
    "   Test your function on your hurricane dictionary."
   ]
  },
  {
   "cell_type": "code",
   "execution_count": 115,
   "id": "9eea4dc7",
   "metadata": {},
   "outputs": [
    {
     "name": "stdout",
     "output_type": "stream",
     "text": [
      "{0: [('Cuba I', 90), ('Bahamas', 16), ('Carol', 5), ('Carla', 43), ('Edith', 37), ('Anita', 11), ('Andrew', 65), ('Isabel', 51), ('Emily', 17), ('Wilma', 87), ('Dean', 45), ('Michael', 74)], 1: [('CubaBrownsville', 179), ('Tampico', 184), ('Labor Day', 408), ('Hattie', 319), ('Camille', 259), ('Allen', 269), ('Gilbert', 318), ('Hugo', 107), ('Ivan', 124), ('Rita', 125), ('Felix', 133), ('Irma', 138)], 2: [('New England', 682), ('Beulah', 688), ('Matthew', 603)], 3: [('San Felipe II Okeechobee', 4000), ('Cuba II', 3103), ('Janet', 1023), ('David', 2068), ('Katrina', 1836), ('Maria', 3057)], 4: [('Mitch', 19325)]}\n"
     ]
    }
   ],
   "source": [
    "# 7\n",
    "# Rating Hurricanes by Mortality\n",
    "mortality_scale = {0:[], 1:[], 2:[], 3:[], 4:[]}\n",
    "\n",
    "for idx, mortality in enumerate(hurricanes['deaths']):\n",
    "    if mortality <= 100:\n",
    "        mortality_scale[0].append((hurricanes['names'][idx], mortality))\n",
    "    elif mortality >100 and mortality <= 500:\n",
    "        mortality_scale[1].append((hurricanes['names'][idx], mortality))\n",
    "    elif mortality >500 and mortality <= 1000:\n",
    "        mortality_scale[2].append((hurricanes['names'][idx], mortality))\n",
    "    elif mortality >1000 and mortality <= 10000:\n",
    "        mortality_scale[3].append((hurricanes['names'][idx], mortality))\n",
    "    elif mortality >10000:\n",
    "        mortality_scale[4].append((hurricanes['names'][idx], mortality))\n",
    "    \n",
    "       \n",
    "    \n",
    "print(mortality_scale)\n",
    "# categorize hurricanes in new dictionary with mortality severity as key\n"
   ]
  },
  {
   "cell_type": "markdown",
   "id": "199b0e1c",
   "metadata": {},
   "source": [
    "8. Write a function that finds the hurricane that caused the greatest damage, and how costly it was.\n",
    "\n",
    "   Test your function on your hurricane dictionary."
   ]
  },
  {
   "cell_type": "code",
   "execution_count": 131,
   "id": "b3dc79b4",
   "metadata": {},
   "outputs": [
    {
     "name": "stdout",
     "output_type": "stream",
     "text": [
      "The hurricane that caused the greatest damage is 'Katrina' with a cost of 125000000000.0 USD.\n",
      "['Damages not recorded', 100000000.0, 'Damages not recorded', 40000000.0, 27900000.0, 5000000.0, 'Damages not recorded', 306000000.0, 2000000.0, 65800000.0, 326000000.0, 60300000.0, 208000000.0, 1420000000.0, 25400000.0, 'Damages not recorded', 1540000000.0, 1240000000.0, 7100000000.0, 10000000000.0, 26500000000.0, 6200000000.0, 5370000000.0, 23300000000.0, 1010000000.0, 125000000000.0, 12000000000.0, 29400000000.0, 1760000000.0, 720000000.0, 15100000000.0, 64800000000.0, 91600000000.0, 25100000000.0]\n"
     ]
    }
   ],
   "source": [
    "# 8\n",
    "# Calculating Hurricane Maximum Damage\n",
    "def find_max_damage_hurricane(hurricanes):\n",
    "    max_damage = 0\n",
    "    max_damage_hurricane = \"\"\n",
    "\n",
    "    for i in range(len(hurricanes['damages'])):\n",
    "        damage = hurricanes['damages'][i]\n",
    "\n",
    "        # Check if the damage is numeric\n",
    "        if isinstance(damage, (int, float)):\n",
    "            if damage > max_damage:\n",
    "                max_damage = damage\n",
    "                max_damage_hurricane = hurricanes['names'][i]\n",
    "\n",
    "    return max_damage_hurricane, max_damage\n",
    "\n",
    "# Test the function with your hurricane dictionary\n",
    "max_damage_hurricane, max_damage = find_max_damage_hurricane(hurricanes)\n",
    "\n",
    "print(f\"The hurricane that caused the greatest damage is '{max_damage_hurricane}' with a cost of {max_damage} USD.\")\n",
    "\n",
    "    \n",
    "\n",
    "print(hurricanes['damages'])\n",
    "# find highest damage inducing hurricane and its total cost\n"
   ]
  },
  {
   "cell_type": "markdown",
   "id": "58d22ddc",
   "metadata": {},
   "source": [
    "9. Lastly, you want to rate hurricanes according to how much damage they cause.\n",
    "\n",
    "   Write a function that rates hurricanes on a damage scale according to the following ratings, where the key is the rating and the value is the upper bound of damage for that rating.\n",
    "   ```py\n",
    "   damage_scale = {0: 0,\n",
    "   1: 100000000,\n",
    "   2: 1000000000,\n",
    "   3: 10000000000,\n",
    "   4: 50000000000}\n",
    "   ```\n",
    "   \n",
    "   For example, a hurricane with a `1` damage rating would have resulted in damages greater than `0` USD but less than or equal to `100000000` USD. A hurricane with a `5` damage rating would have resulted in damages greater than `50000000000` USD (talk about a lot of money).\n",
    "   \n",
    "   Store the hurricanes in a new dictionary where the keys are damage ratings and the values are lists containing a dictionary for each hurricane that falls into that damage rating.\n",
    "   \n",
    "   Test your function on your hurricane dictionary."
   ]
  },
  {
   "cell_type": "code",
   "execution_count": 132,
   "id": "e543f487",
   "metadata": {},
   "outputs": [
    {
     "name": "stdout",
     "output_type": "stream",
     "text": [
      "Rating 0:\n",
      "\n",
      "Rating 1:\n",
      "San Felipe II Okeechobee - Damage: 100000000.0 USD\n",
      "Cuba II - Damage: 40000000.0 USD\n",
      "CubaBrownsville - Damage: 27900000.0 USD\n",
      "Tampico - Damage: 5000000.0 USD\n",
      "Carol - Damage: 2000000.0 USD\n",
      "Janet - Damage: 65800000.0 USD\n",
      "Hattie - Damage: 60300000.0 USD\n",
      "Edith - Damage: 25400000.0 USD\n",
      "\n",
      "Rating 2:\n",
      "New England - Damage: 306000000.0 USD\n",
      "Carla - Damage: 326000000.0 USD\n",
      "Beulah - Damage: 208000000.0 USD\n",
      "Felix - Damage: 720000000.0 USD\n",
      "\n",
      "Rating 3:\n",
      "Camille - Damage: 1420000000.0 USD\n",
      "David - Damage: 1540000000.0 USD\n",
      "Allen - Damage: 1240000000.0 USD\n",
      "Gilbert - Damage: 7100000000.0 USD\n",
      "Hugo - Damage: 10000000000.0 USD\n",
      "Mitch - Damage: 6200000000.0 USD\n",
      "Isabel - Damage: 5370000000.0 USD\n",
      "Emily - Damage: 1010000000.0 USD\n",
      "Dean - Damage: 1760000000.0 USD\n",
      "\n",
      "Rating 4:\n",
      "Andrew - Damage: 26500000000.0 USD\n",
      "Ivan - Damage: 23300000000.0 USD\n",
      "Rita - Damage: 12000000000.0 USD\n",
      "Wilma - Damage: 29400000000.0 USD\n",
      "Matthew - Damage: 15100000000.0 USD\n",
      "Michael - Damage: 25100000000.0 USD\n",
      "\n"
     ]
    }
   ],
   "source": [
    "# 9\n",
    "# Rating Hurricanes by Damage\n",
    "damage_scale = {0: 0,\n",
    "                1: 100000000,\n",
    "                2: 1000000000,\n",
    "                3: 10000000000,\n",
    "                4: 50000000000}\n",
    "\n",
    "def rate_hurricanes_by_damage_simple(hurricanes):\n",
    "    damage_scale = {0: 0, 1: 100000000, 2: 1000000000, 3: 10000000000, 4: 50000000000}\n",
    "\n",
    "    rated_hurricanes = {0: [], 1: [], 2: [], 3: [], 4: []}\n",
    "\n",
    "    for i in range(len(hurricanes['damages'])):\n",
    "        damage = hurricanes['damages'][i]\n",
    "        name = hurricanes['names'][i]\n",
    "\n",
    "        if isinstance(damage, (int, float)):\n",
    "            for rating, upper_bound in damage_scale.items():\n",
    "                if damage <= upper_bound:\n",
    "                    rated_hurricanes[rating].append({'name': name, 'damage': damage})\n",
    "                    break  # Exit the loop after assigning the rating\n",
    "\n",
    "    return rated_hurricanes\n",
    "\n",
    "# Test the function with your hurricane dictionary\n",
    "rated_hurricanes = rate_hurricanes_by_damage_simple(hurricanes)\n",
    "\n",
    "# Print the hurricanes rated by damage\n",
    "for rating, hurricanes_list in rated_hurricanes.items():\n",
    "    print(f\"Rating {rating}:\")\n",
    "    for hurricane in hurricanes_list:\n",
    "        print(f\"{hurricane['name']} - Damage: {hurricane['damage']} USD\")\n",
    "    print()\n",
    "\n",
    "# categorize hurricanes in new dictionary with damage severity as key\n"
   ]
  },
  {
   "cell_type": "markdown",
   "id": "928c5fd2",
   "metadata": {},
   "source": [
    "## Solution"
   ]
  },
  {
   "cell_type": "markdown",
   "id": "252616a3",
   "metadata": {},
   "source": [
    "Great work! View the **Hurricane Analysis_Solution.ipynb** file or visit [our forums](https://discuss.codecademy.com/t/hurricane-analysis-challenge-project-python/462363) to compare your project to our sample solution code. You can also learn how to host your own solution on GitHub so you can share it with other learners! Your solution might look different than ours, and that's okay! There are multiple ways to solve these projects, and you'll learn more by seeing others' code."
   ]
  },
  {
   "cell_type": "code",
   "execution_count": null,
   "id": "da8f7141",
   "metadata": {},
   "outputs": [],
   "source": []
  }
 ],
 "metadata": {
  "kernelspec": {
   "display_name": "Python 3 (ipykernel)",
   "language": "python",
   "name": "python3"
  },
  "language_info": {
   "codemirror_mode": {
    "name": "ipython",
    "version": 3
   },
   "file_extension": ".py",
   "mimetype": "text/x-python",
   "name": "python",
   "nbconvert_exporter": "python",
   "pygments_lexer": "ipython3",
   "version": "3.11.4"
  },
  "vscode": {
   "interpreter": {
    "hash": "b784193cf0f9970b27f3c12f21dbff8ed97e3cf923dc23fe210654173bc3fdd0"
   }
  }
 },
 "nbformat": 4,
 "nbformat_minor": 5
}
